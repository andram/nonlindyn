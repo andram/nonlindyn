{
 "cells": [
  {
   "cell_type": "code",
   "execution_count": null,
   "id": "63153d36-6c98-465f-bb46-88d967a118fa",
   "metadata": {},
   "outputs": [],
   "source": [
    "from jax.config import config\n",
    "config.update(\"jax_enable_x64\", True)\n",
    "\n",
    "import numpy as np\n",
    "import jax.numpy as jnp\n",
    "\n",
    "from jax import grad, jit, vmap\n",
    "from jax import random\n"
   ]
  },
  {
   "cell_type": "markdown",
   "id": "c27b2f30-2729-419a-9524-6cfb211d73dc",
   "metadata": {},
   "source": [
    "# Introduction to JAX\n",
    "\n",
    "the purpose of this notebook is to understand, how JAX can help with analysing dynamical systems. \n",
    "\n",
    "It seems that JAX per default is [32 bit single precision floating point](https://jax.readthedocs.io/en/latest/notebooks/Common_Gotchas_in_JAX.html#double-64bit-precision), let us however first keep with 64bit as default.  This is obtained through the two lines of code \n",
    "```python\n",
    "from jax.config import config\n",
    "config.update(\"jax_enable_x64\", True)\n",
    "```\n",
    "\n",
    "JAX provides all functions, which numpy typically provides. Using\n",
    "```python\n",
    "import jax.numpy as jnp\n",
    "```\n",
    "we can now use `jnp.`, whenever we previously would have used `np.`.\n",
    "\n",
    "JAX also has a just-in-time compiler, which seems to work similar to numba by annotating functions.  (need to understand better difference to numba)\n"
   ]
  },
  {
   "cell_type": "markdown",
   "id": "1cc81ed2-dd74-4607-aa80-6ec129d51212",
   "metadata": {},
   "source": [
    "## Follow [tutorial](https://jax.readthedocs.io/en/latest/notebooks/quickstart.html)\n"
   ]
  },
  {
   "cell_type": "code",
   "execution_count": null,
   "id": "7bb8fa5a-068a-4d27-ab53-266a0c364884",
   "metadata": {},
   "outputs": [],
   "source": [
    "key = random.PRNGKey(0)\n",
    "x = random.normal(key, (10,))\n",
    "print(x)\n"
   ]
  },
  {
   "cell_type": "code",
   "execution_count": null,
   "id": "60abbf6c-e131-46e1-bc30-0c41bcf2f286",
   "metadata": {},
   "outputs": [],
   "source": [
    "size = 3000\n",
    "x = random.normal(key, (size, size), dtype=jnp.float32)\n",
    "%timeit jnp.dot(x, x.T).block_until_ready()  # runs on the GPU\n"
   ]
  },
  {
   "cell_type": "code",
   "execution_count": null,
   "id": "f9a59552-298a-494a-b96c-66d901e2ac3f",
   "metadata": {},
   "outputs": [],
   "source": [
    "import numpy as np"
   ]
  },
  {
   "cell_type": "code",
   "execution_count": null,
   "id": "8c2c9431-4fc9-4c8d-a22b-068a1bd914d8",
   "metadata": {},
   "outputs": [],
   "source": [
    "%timeit np.dot(x, x.T)"
   ]
  },
  {
   "cell_type": "code",
   "execution_count": null,
   "id": "c4702388-a9cc-4a92-a790-6ab02fba1bba",
   "metadata": {},
   "outputs": [],
   "source": [
    "def sum_logistic(x):\n",
    "    return jnp.sum(1.0 / (1.0 + jnp.exp(-x)))\n",
    "\n",
    "x_small = jnp.arange(3.)\n",
    "derivative_fn = grad(sum_logistic)\n",
    "print(derivative_fn(x_small))"
   ]
  },
  {
   "cell_type": "code",
   "execution_count": null,
   "id": "6220607d-5420-4ac0-accf-7d5264396db0",
   "metadata": {},
   "outputs": [],
   "source": [
    "derivative_fn(jnp.array([2,5,2.0,-1]))"
   ]
  },
  {
   "cell_type": "code",
   "execution_count": null,
   "id": "f9e128ef-0725-4b68-b889-8b4252181fb3",
   "metadata": {},
   "outputs": [],
   "source": [
    "mat = random.normal(key, (150, 100))\n",
    "batched_x = random.normal(key, (10, 100))\n",
    "\n",
    "def apply_matrix(v):\n",
    "    return jnp.dot(mat, v)"
   ]
  },
  {
   "cell_type": "code",
   "execution_count": null,
   "id": "84de5d19-52c4-4c15-b4cf-97dda4e82345",
   "metadata": {},
   "outputs": [],
   "source": [
    "def naively_batched_apply_matrix(v_batched):\n",
    "    return jnp.stack([apply_matrix(v) for v in v_batched])\n",
    "\n",
    "print('Naively batched')\n",
    "%timeit naively_batched_apply_matrix(batched_x).block_until_ready()\n"
   ]
  },
  {
   "cell_type": "code",
   "execution_count": null,
   "id": "9853d8e7-8a28-4db4-b229-bcf759469f99",
   "metadata": {},
   "outputs": [],
   "source": [
    "@jit\n",
    "def vmap_batched_apply_matrix(v_batched):\n",
    "    return vmap(apply_matrix)(v_batched)\n",
    "\n",
    "print('Auto-vectorized with vmap')\n",
    "%timeit vmap_batched_apply_matrix(batched_x).block_until_ready()\n"
   ]
  },
  {
   "cell_type": "code",
   "execution_count": null,
   "id": "33cf407e-332b-44bc-b378-a5610711cd16",
   "metadata": {},
   "outputs": [],
   "source": [
    "def make_a_func():\n",
    "    a = 5\n",
    "    return lambda:  a\n",
    "\n",
    "bla = make_a_func()\n",
    "bla()"
   ]
  },
  {
   "cell_type": "code",
   "execution_count": null,
   "id": "750723de-2312-42d7-94b1-e71d45729bd9",
   "metadata": {},
   "outputs": [],
   "source": [
    "from jax import lax"
   ]
  },
  {
   "cell_type": "code",
   "execution_count": null,
   "id": "1c4d6dbc-960b-48c2-9741-b98c45b79346",
   "metadata": {},
   "outputs": [],
   "source": [
    "def norm(X):\n",
    "    X = X - X.mean(0)\n",
    "    return X / X.std(0)\n",
    "norm_compiled = jit(norm)\n",
    "\n"
   ]
  },
  {
   "cell_type": "code",
   "execution_count": null,
   "id": "4d09db10-f893-42a2-85f9-58b60568f437",
   "metadata": {},
   "outputs": [],
   "source": [
    "np.random.seed(1701)\n",
    "X = jnp.array(np.random.rand(10000, 10))\n",
    "np.allclose(norm(X), norm_compiled(X), atol=1E-13)"
   ]
  },
  {
   "cell_type": "code",
   "execution_count": null,
   "id": "810bd1ae-1167-43d5-94d8-5bfac335538b",
   "metadata": {},
   "outputs": [],
   "source": [
    "%timeit norm(X).block_until_ready()\n",
    "%timeit norm_compiled(X).block_until_ready()\n"
   ]
  },
  {
   "cell_type": "code",
   "execution_count": null,
   "id": "19110cec-cce4-442d-9d69-90f7d47ff354",
   "metadata": {},
   "outputs": [],
   "source": [
    "lax.abs_p.impl"
   ]
  },
  {
   "cell_type": "code",
   "execution_count": null,
   "id": "7cd126e4-a9f9-41ea-bcf0-0bf38827dc12",
   "metadata": {},
   "outputs": [],
   "source": [
    "a=7\n",
    "bla()"
   ]
  },
  {
   "cell_type": "code",
   "execution_count": null,
   "id": "c43bf618-4b08-4be3-9c63-f19a4b10ac4d",
   "metadata": {},
   "outputs": [],
   "source": [
    "x_small"
   ]
  },
  {
   "cell_type": "code",
   "execution_count": null,
   "id": "fd38efac-e2a2-440a-b907-5c1965b4e68a",
   "metadata": {},
   "outputs": [],
   "source": [
    "jnp.finfo(jnp.float64).eps"
   ]
  },
  {
   "cell_type": "code",
   "execution_count": null,
   "id": "ab4a16df-74db-434f-a9d8-56b14cef7d5f",
   "metadata": {},
   "outputs": [],
   "source": [
    "import numpy as np\n",
    "\n",
    "def init_mlp_params(layer_widths):\n",
    "  params = []\n",
    "  for n_in, n_out in zip(layer_widths[:-1], layer_widths[1:]):\n",
    "    params.append(\n",
    "        dict(weights=np.random.normal(size=(n_in, n_out)) * np.sqrt(2/n_in),\n",
    "             biases=np.ones(shape=(n_out,))\n",
    "            )\n",
    "    )\n",
    "  return params\n",
    "\n",
    "params = init_mlp_params([1, 128, 128, 1])"
   ]
  },
  {
   "cell_type": "code",
   "execution_count": null,
   "id": "a2b95545-436e-4319-8bc4-27c963c45a04",
   "metadata": {},
   "outputs": [],
   "source": [
    "import jax"
   ]
  },
  {
   "cell_type": "code",
   "execution_count": null,
   "id": "73927e9a-5ccb-48f7-8245-bf79931562bc",
   "metadata": {},
   "outputs": [],
   "source": [
    "jax.tree_map(lambda x: x.shape, params)"
   ]
  },
  {
   "cell_type": "code",
   "execution_count": null,
   "id": "45fe9dd5-442f-4f03-9819-9b926384c91b",
   "metadata": {},
   "outputs": [],
   "source": [
    "2 * [3,4] *2"
   ]
  },
  {
   "cell_type": "code",
   "execution_count": null,
   "id": "8bd8184e-3d72-4761-9cc1-622079ca5325",
   "metadata": {},
   "outputs": [],
   "source": [
    "np.array(range(6))"
   ]
  },
  {
   "cell_type": "code",
   "execution_count": null,
   "id": "91b59ad4-c7ab-466f-87b3-9238e7efae79",
   "metadata": {},
   "outputs": [],
   "source": [
    "np.concatenate(list(range(6)),axis=1)"
   ]
  },
  {
   "cell_type": "code",
   "execution_count": null,
   "id": "7ba75026-be65-41fa-8531-0b69b919e443",
   "metadata": {},
   "outputs": [],
   "source": []
  }
 ],
 "metadata": {
  "language_info": {
   "name": "python"
  }
 },
 "nbformat": 4,
 "nbformat_minor": 5
}
