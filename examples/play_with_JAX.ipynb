{
 "cells": [
  {
   "cell_type": "code",
   "execution_count": null,
   "id": "63153d36-6c98-465f-bb46-88d967a118fa",
   "metadata": {},
   "outputs": [],
   "source": [
    "from jax.config import config\n",
    "config.update(\"jax_enable_x64\", True)\n",
    "\n",
    "import numpy as np\n",
    "import jax.numpy as jnp\n",
    "from jax import jit"
   ]
  },
  {
   "cell_type": "markdown",
   "id": "c27b2f30-2729-419a-9524-6cfb211d73dc",
   "metadata": {},
   "source": [
    "# Introduction to JAX\n",
    "\n",
    "the purpose of this notebook is to understand, how JAX can help with analysing dynamical systems. \n",
    "\n",
    "It seems that JAX per default is [32 bit single precision floating point](https://jax.readthedocs.io/en/latest/notebooks/Common_Gotchas_in_JAX.html#double-64bit-precision), let us however first keep with 64bit as default.  This is obtained through the two lines of code \n",
    "```python\n",
    "from jax.config import config\n",
    "config.update(\"jax_enable_x64\", True)\n",
    "```\n",
    "\n",
    "JAX provides all functions, which numpy typically provides. Using\n",
    "```python\n",
    "import jax.numpy as jnp\n",
    "```\n",
    "we can now use `jnp.`, whenever we previously would have used `np.`.\n",
    "\n",
    "JAX also has a just-in-time compiler, which seems to work similar to numba by annotating functions.  (need to understand better difference to numba)\n"
   ]
  },
  {
   "cell_type": "code",
   "execution_count": null,
   "id": "fd38efac-e2a2-440a-b907-5c1965b4e68a",
   "metadata": {},
   "outputs": [],
   "source": [
    "jnp.finfo(jnp.float64).eps"
   ]
  },
  {
   "cell_type": "code",
   "execution_count": null,
   "id": "45fe9dd5-442f-4f03-9819-9b926384c91b",
   "metadata": {},
   "outputs": [],
   "source": [
    "np.allclose("
   ]
  }
 ],
 "metadata": {
  "language_info": {
   "name": "python"
  }
 },
 "nbformat": 4,
 "nbformat_minor": 5
}
