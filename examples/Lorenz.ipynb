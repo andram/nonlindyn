{
 "cells": [
  {
   "cell_type": "code",
   "execution_count": null,
   "id": "b691d739-65b6-4054-a115-b6eda296f4e0",
   "metadata": {},
   "outputs": [],
   "source": [
    "%load_ext autoreload\n",
    "%autoreload 2\n",
    "import nonlindyn as nld\n",
    "import numpy as np\n",
    "import matplotlib.pyplot as plt\n",
    "import itertools as it\n"
   ]
  },
  {
   "cell_type": "markdown",
   "id": "04326da7-3104-47be-861e-94f580fd90c2",
   "metadata": {},
   "source": [
    "# Lorenz System\n",
    "\n",
    "Let us implement the standard [Lorenz System](https://en.wikipedia.org/wiki/Lorenz_system) given by \n",
    "\\begin{aligned}{\\frac {\\mathrm {d} x}{\\mathrm {d} t}}&=\\sigma (y-x),\\\\\n",
    "{\\frac {\\mathrm {d} y}{\\mathrm {d} t}}&=x(\\rho -z)-y,\\\\\n",
    "{\\frac {\\mathrm {d} z}{\\mathrm {d} t}}&=xy-\\beta z.\n",
    "\\end{aligned}\n",
    "with standard parameters \n",
    "$$\n",
    "\\sigma = 10; \\beta= 8/3; \\rho=28\n",
    "$$\n",
    "\n"
   ]
  },
  {
   "cell_type": "code",
   "execution_count": null,
   "id": "2d605e66-2f22-4d74-9f7a-bd5b2096eaec",
   "metadata": {},
   "outputs": [],
   "source": [
    "def Lorenz(X, sigma=10., beta=8/3., rho=28.):\n",
    "    x,y,z = X\n",
    "    dx = sigma * (y - x)\n",
    "    dy = x * (rho -z) - y\n",
    "    dz = x * y - beta * z\n",
    "    return np.array([dx, dy, dz])"
   ]
  },
  {
   "cell_type": "code",
   "execution_count": null,
   "id": "c646b3e9-6818-4f58-90fb-22114b523a2d",
   "metadata": {},
   "outputs": [],
   "source": [
    "%%time\n",
    "X0 = np.array([1.0,1.0,1.0])\n",
    "T, X = nld.rk4trajectory(Lorenz, X0,  step=0.01, stop=100.0, raster=10)"
   ]
  },
  {
   "cell_type": "code",
   "execution_count": null,
   "id": "f7691aef-f34c-4145-9bf3-0aa5333394dd",
   "metadata": {},
   "outputs": [],
   "source": [
    "fig, axs = plt.subplots(1, 3, figsize=(15,7))\n",
    "axs[0].plot(X[:,0], X[:,1])\n",
    "axs[1].plot(X[:,0], X[:,2])\n",
    "axs[2].plot(X[:,1], X[:,2])"
   ]
  },
  {
   "cell_type": "markdown",
   "id": "6b683dd6-8fc6-4d9e-9b6e-25326ec54eeb",
   "metadata": {},
   "source": [
    "# Functional approach\n",
    "\n",
    "try to find local minima and maxima"
   ]
  },
  {
   "cell_type": "code",
   "execution_count": null,
   "id": "b9185ef1-bd7f-437b-99eb-c00f9b1815c7",
   "metadata": {},
   "outputs": [],
   "source": [
    "Xinit = np.array([1.,1.,1.])\n",
    "LS = nld.rk4yield(Lorenz, Xinit, step=0.01) # Generator\n",
    "LS = it.dropwhile(lambda x: x[0] < 100.0, LS) # Cut off transient\n",
    "LS = it.takewhile(lambda x: x[0] < 102.0, LS) # Cut tail\n",
    "\n",
    "LS, LSTMAX, LSTMIN = it.tee(LS, 3)\n",
    "getx = lambda x: x[1][0]\n",
    "LSMAX = nld.local_max(LSTMAX, getx)\n",
    "LSMIN = nld.local_min(LSTMIN, getx)\n",
    "\n",
    "for dt,style in [(LS,\"\"), (LSMAX,\"ro\"), (LSMIN,\"bd\")]:\n",
    "    T, X = zip(*dt)\n",
    "    x,y,z = zip(*X) \n",
    "    plt.plot(T,x,style)\n"
   ]
  },
  {
   "cell_type": "markdown",
   "id": "66987dfc-657a-45e8-b7ae-470a4a093540",
   "metadata": {},
   "source": [
    "# Find FPs\n",
    "\n",
    "We know that analytically the following three FPs exist:\n",
    "\n",
    "1. $(0,0,0)$\n",
    "2. $(\\sqrt{\\beta (\\rho - 1 )},\\sqrt{\\beta (\\rho - 1 )}, \\rho -1)$\n",
    "2. $(-\\sqrt{\\beta (\\rho - 1 )}, -\\sqrt{\\beta (\\rho - 1 )}, \\rho -1)$\n",
    "\n",
    "Let us write a function for it:"
   ]
  },
  {
   "cell_type": "code",
   "execution_count": null,
   "id": "08ce9348-5143-48d2-8f30-8e619e8176b1",
   "metadata": {},
   "outputs": [],
   "source": [
    "def LorenzFPs(sigma=10., beta=8/3., rho=28.):\n",
    "    sqex = np.sqrt(beta*(rho-1))\n",
    "    return (\n",
    "        np.array([sqex,sqex,rho - 1]), \n",
    "        np.array([-sqex,-sqex,rho - 1]),\n",
    "        np.array([0,0,0.])\n",
    "    )\n"
   ]
  },
  {
   "cell_type": "markdown",
   "id": "935ce19b-f5d6-4bdf-9a63-40314386a241",
   "metadata": {},
   "source": [
    "and check that it works:"
   ]
  },
  {
   "cell_type": "code",
   "execution_count": null,
   "id": "a9c571ee-002d-4e31-a70d-2c089bf043b6",
   "metadata": {},
   "outputs": [],
   "source": [
    "for FP in LorenzFPs():\n",
    "    print(FP, Lorenz(FP))"
   ]
  },
  {
   "cell_type": "markdown",
   "id": "e66302d9-d388-4e6b-b611-2efe85fdf291",
   "metadata": {},
   "source": [
    "Now the challenge is to find the FPs automatically.  In general this is a hard problem, but if we have a reasonable guess for the FPs, we can use Newton's method to find it.  One catch is however, that Newton requires the Jacobian, whichmight be difficult to get for an arbitrary function.\n",
    "\n",
    "To overcome this difficulty there are a number of options:\n",
    "\n",
    "\n",
    "1. Write the function in Sympy and use symbolic \n",
    "differentiation to get Jacobian\n",
    "2. Use [JAX](https://jax.readthedocs.io/en/latest/). Jax is a [google project](https://github.com/google/jax)\n",
    "3. Use [autograd](https://github.com/hips/autograd): Autograd seems to be not actively developed anymore and developers moved to JAX\n",
    "3. Approximate the Jacobian numerically by evaluating function at close-by points. \n",
    "3. Use tensorflow? Using [GradientTape](https://www.tensorflow.org/api_docs/python/tf/GradientTape) it is possible to calculate the Jacobian. \n",
    "3. Use pytorch? There is a [Jacobian function](https://pytorch.org/docs/stable/generated/torch.autograd.functional.jacobian.html)\n",
    "3. [tangent](https://github.com/google/tangent): Not actively developed\n",
    "\n",
    "At the moment JAX seems to be the cleanest, which is unburdened by legacy stuff.  Let's try it put in this branch. \n",
    "\n",
    "\n"
   ]
  },
  {
   "cell_type": "markdown",
   "id": "c7ff461d-d924-4dcf-b33f-851b46c43820",
   "metadata": {},
   "source": [
    "# Convert the code\n",
    "\n",
    "to make use of JAX, we rewrite our original Lorenz function using `jnp` instead of `np`:"
   ]
  },
  {
   "cell_type": "code",
   "execution_count": null,
   "id": "c33bcc32-136b-42dd-9862-2f2fb44bcdfa",
   "metadata": {},
   "outputs": [],
   "source": [
    "import jax.numpy as jnp\n",
    "from jax import jit\n",
    "\n",
    "@jit\n",
    "def Lorenz(X, sigma=10., beta=8/3., rho=28.):\n",
    "    x,y,z = X\n",
    "    dx = sigma * (y - x)\n",
    "    dy = x * (rho -z) - y\n",
    "    dz = x * y - beta * z\n",
    "    return jnp.array([dx, dy, dz])"
   ]
  },
  {
   "cell_type": "markdown",
   "id": "1127bcdb-5352-4688-a9d8-a6dc716daec1",
   "metadata": {},
   "source": [
    "now we can use `jacrev` or `jacfwd` to calculate the Jabian at a particular point `X0`"
   ]
  },
  {
   "cell_type": "code",
   "execution_count": null,
   "id": "e5842582-09e0-433b-b581-91033961b653",
   "metadata": {},
   "outputs": [],
   "source": [
    "from jax import jacfwd, jacrev\n",
    "\n",
    "X0 = jnp.array([1.0,1.0,1.0])\n",
    "JX0 = jacrev(Lorenz)(X0)"
   ]
  },
  {
   "cell_type": "code",
   "execution_count": null,
   "id": "74c4d026-0811-4151-b43f-e1b37b87f217",
   "metadata": {},
   "outputs": [],
   "source": [
    "JX0"
   ]
  },
  {
   "cell_type": "code",
   "execution_count": null,
   "id": "9ba0dbb7-4f91-435e-b048-8a6da01235ac",
   "metadata": {},
   "outputs": [],
   "source": [
    "nld.newtonMethod(Lorenz,X0)"
   ]
  },
  {
   "cell_type": "code",
   "execution_count": null,
   "id": "09855aa5-629a-45e8-8c64-114242115105",
   "metadata": {},
   "outputs": [],
   "source": [
    "FPrand = [f + 1* np.random.rand(3) for f in LorenzFPs()]\n",
    "FPrand"
   ]
  },
  {
   "cell_type": "code",
   "execution_count": null,
   "id": "0f13553e-cb95-4a2e-976d-f156e861895f",
   "metadata": {},
   "outputs": [],
   "source": [
    "FPconv = [nld.newtonMethod(Lorenz,f,itmax=20) for f in FPrand]\n",
    "FPconv"
   ]
  },
  {
   "cell_type": "code",
   "execution_count": null,
   "id": "cd09ab25-cb47-4613-be71-871df80d7edb",
   "metadata": {},
   "outputs": [],
   "source": [
    "[np.linalg.norm(Lorenz(F)) for  F in FPconv]"
   ]
  },
  {
   "cell_type": "markdown",
   "id": "723d3b78-2179-4947-8563-5e14b0c1e1ff",
   "metadata": {},
   "source": [
    "We can still use the new Lorenz function as before, unfortunately, it is slower!"
   ]
  },
  {
   "cell_type": "code",
   "execution_count": null,
   "id": "b962dc51-e191-462f-b13e-08cda8335360",
   "metadata": {},
   "outputs": [],
   "source": [
    "%%time\n",
    "X0 = np.array([1.0,1.0,1.0])\n",
    "T, X = nld.rk4trajectory(Lorenz, X0,  step=0.01, stop=100.0, raster=10)"
   ]
  },
  {
   "cell_type": "code",
   "execution_count": null,
   "id": "69060449-75de-494a-912a-9de9f9760e89",
   "metadata": {},
   "outputs": [],
   "source": []
  }
 ],
 "metadata": {
  "language_info": {
   "name": "python"
  }
 },
 "nbformat": 4,
 "nbformat_minor": 5
}
