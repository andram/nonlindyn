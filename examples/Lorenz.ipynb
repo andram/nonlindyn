{
 "cells": [
  {
   "cell_type": "code",
   "execution_count": null,
   "id": "b691d739-65b6-4054-a115-b6eda296f4e0",
   "metadata": {},
   "outputs": [],
   "source": [
    "import nonlindyn as nld\n",
    "import numpy as np\n",
    "import matplotlib.pyplot as plt\n",
    "import itertools as it"
   ]
  },
  {
   "cell_type": "markdown",
   "id": "04326da7-3104-47be-861e-94f580fd90c2",
   "metadata": {},
   "source": [
    "# Lorenz System\n",
    "\n",
    "Let us implement the standard [Lorenz System](https://en.wikipedia.org/wiki/Lorenz_system) given by \n",
    "\\begin{aligned}{\\frac {\\mathrm {d} x}{\\mathrm {d} t}}&=\\sigma (y-x),\\\\\n",
    "{\\frac {\\mathrm {d} y}{\\mathrm {d} t}}&=x(\\rho -z)-y,\\\\\n",
    "{\\frac {\\mathrm {d} z}{\\mathrm {d} t}}&=xy-\\beta z.\n",
    "\\end{aligned}\n",
    "with standard parameters \n",
    "$$\n",
    "\\sigma = 10; \\beta= 8/3; \\rho=28\n",
    "$$\n",
    "\n"
   ]
  },
  {
   "cell_type": "code",
   "execution_count": null,
   "id": "2d605e66-2f22-4d74-9f7a-bd5b2096eaec",
   "metadata": {},
   "outputs": [],
   "source": [
    "def Lorenz(X, sigma=10., beta=8/3., rho=28.):\n",
    "    x,y,z = X\n",
    "    dx = sigma * (y - x)\n",
    "    dy = x * (rho -z) - y\n",
    "    dz = x * y - beta * z\n",
    "    return np.array([dx, dy, dz])"
   ]
  },
  {
   "cell_type": "code",
   "execution_count": null,
   "id": "c646b3e9-6818-4f58-90fb-22114b523a2d",
   "metadata": {},
   "outputs": [],
   "source": [
    "X0 = np.array([1.0,1.0,1.0])\n",
    "T, X = nld.rk4trajectory(Lorenz, X0,  step=0.01, stop=100.0)"
   ]
  },
  {
   "cell_type": "code",
   "execution_count": null,
   "id": "f7691aef-f34c-4145-9bf3-0aa5333394dd",
   "metadata": {},
   "outputs": [],
   "source": [
    "fig, axs = plt.subplots(1, 3, figsize=(15,7))\n",
    "axs[0].plot(X[:,0], X[:,1])\n",
    "axs[1].plot(X[:,0], X[:,2])\n",
    "axs[2].plot(X[:,1], X[:,2])"
   ]
  },
  {
   "cell_type": "markdown",
   "id": "6b683dd6-8fc6-4d9e-9b6e-25326ec54eeb",
   "metadata": {},
   "source": [
    "# Functional approach"
   ]
  },
  {
   "cell_type": "code",
   "execution_count": null,
   "id": "f1cec2a1-98d6-44f3-a640-0d104680cc7d",
   "metadata": {},
   "outputs": [],
   "source": [
    "Xinit = np.array([1.,1.,1.])\n",
    "LS = nld.rk4yield(lorenz, Xinit, step=0.1) # Generator\n",
    "LS = it.takewhile(lambda x: x[0] < 10.0, LS) # Cut off transient\n",
    "\n"
   ]
  }
 ],
 "metadata": {
  "kernelspec": {
   "display_name": "Python 3 (ipykernel)",
   "language": "python",
   "name": "python3"
  },
  "language_info": {
   "codemirror_mode": {
    "name": "ipython",
    "version": 3
   },
   "file_extension": ".py",
   "mimetype": "text/x-python",
   "name": "python",
   "nbconvert_exporter": "python",
   "pygments_lexer": "ipython3",
   "version": "3.9.9"
  }
 },
 "nbformat": 4,
 "nbformat_minor": 5
}
