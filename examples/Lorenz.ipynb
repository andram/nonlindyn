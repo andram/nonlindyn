{
 "cells": [
  {
   "cell_type": "code",
   "execution_count": null,
   "id": "b691d739-65b6-4054-a115-b6eda296f4e0",
   "metadata": {},
   "outputs": [],
   "source": [
    "%load_ext autoreload\n",
    "%autoreload 2\n",
    "import nonlindyn as nld\n",
    "import numpy as np\n",
    "import matplotlib.pyplot as plt\n",
    "import itertools as it"
   ]
  },
  {
   "cell_type": "markdown",
   "id": "04326da7-3104-47be-861e-94f580fd90c2",
   "metadata": {},
   "source": [
    "# Lorenz System\n",
    "\n",
    "Let us implement the standard [Lorenz System](https://en.wikipedia.org/wiki/Lorenz_system) given by \n",
    "\\begin{aligned}{\\frac {\\mathrm {d} x}{\\mathrm {d} t}}&=\\sigma (y-x),\\\\\n",
    "{\\frac {\\mathrm {d} y}{\\mathrm {d} t}}&=x(\\rho -z)-y,\\\\\n",
    "{\\frac {\\mathrm {d} z}{\\mathrm {d} t}}&=xy-\\beta z.\n",
    "\\end{aligned}\n",
    "with standard parameters \n",
    "$$\n",
    "\\sigma = 10; \\beta= 8/3; \\rho=28\n",
    "$$\n",
    "\n"
   ]
  },
  {
   "cell_type": "code",
   "execution_count": null,
   "id": "2d605e66-2f22-4d74-9f7a-bd5b2096eaec",
   "metadata": {},
   "outputs": [],
   "source": [
    "def Lorenz(X, sigma=10., beta=8/3., rho=28.):\n",
    "    x,y,z = X\n",
    "    dx = sigma * (y - x)\n",
    "    dy = x * (rho -z) - y\n",
    "    dz = x * y - beta * z\n",
    "    return np.array([dx, dy, dz])"
   ]
  },
  {
   "cell_type": "code",
   "execution_count": null,
   "id": "c646b3e9-6818-4f58-90fb-22114b523a2d",
   "metadata": {},
   "outputs": [],
   "source": [
    "X0 = np.array([1.0,1.0,1.0])\n",
    "T, X = nld.rk4trajectory(Lorenz, X0,  step=0.01, stop=100.0)"
   ]
  },
  {
   "cell_type": "code",
   "execution_count": null,
   "id": "f7691aef-f34c-4145-9bf3-0aa5333394dd",
   "metadata": {},
   "outputs": [],
   "source": [
    "fig, axs = plt.subplots(1, 3, figsize=(15,7))\n",
    "axs[0].plot(X[:,0], X[:,1])\n",
    "axs[1].plot(X[:,0], X[:,2])\n",
    "axs[2].plot(X[:,1], X[:,2])"
   ]
  },
  {
   "cell_type": "markdown",
   "id": "6b683dd6-8fc6-4d9e-9b6e-25326ec54eeb",
   "metadata": {},
   "source": [
    "# Functional approach\n",
    "\n",
    "try to find local minima and maxima"
   ]
  },
  {
   "cell_type": "code",
   "execution_count": null,
   "id": "b9185ef1-bd7f-437b-99eb-c00f9b1815c7",
   "metadata": {},
   "outputs": [],
   "source": [
    "Xinit = np.array([1.,1.,1.])\n",
    "LS = nld.rk4yield(Lorenz, Xinit, step=0.01) # Generator\n",
    "LS = it.dropwhile(lambda x: x[0] < 100.0, LS) # Cut off transient\n",
    "LS = it.takewhile(lambda x: x[0] < 102.0, LS) # Cut tail\n",
    "\n",
    "LS, LSTMAX, LSTMIN = it.tee(LS, 3)\n",
    "getx = lambda x: x[1][0]\n",
    "LSMAX = nld.local_max(LSTMAX, getx)\n",
    "LSMIN = nld.local_min2(LSTMIN, getx)\n",
    "\n",
    "for dt,style in [(LS,\"\"), (LSMAX,\"ro\"), (LSMIN,\"bd\")]:\n",
    "    T, X = zip(*dt)\n",
    "    x,y,z = zip(*X) \n",
    "    plt.plot(T,x,style)\n"
   ]
  },
  {
   "cell_type": "code",
   "execution_count": null,
   "id": "25d71d3f-fc1f-48a8-976e-c6d6f4258d56",
   "metadata": {},
   "outputs": [],
   "source": [
    "key1 = lambda x:x\n",
    "key2 = lambda x: -key1(x)\n",
    "\n",
    "list(nld.local_min2([1,2,0.1,0.1,0.2], key=key2))"
   ]
  },
  {
   "cell_type": "code",
   "execution_count": null,
   "id": "73631427-fbab-472e-954c-a8e15b9eafde",
   "metadata": {},
   "outputs": [],
   "source": []
  }
 ],
 "metadata": {
  "language_info": {
   "name": "python"
  }
 },
 "nbformat": 4,
 "nbformat_minor": 5
}
