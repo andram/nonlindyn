{
 "cells": [
  {
   "cell_type": "code",
   "execution_count": null,
   "id": "b691d739-65b6-4054-a115-b6eda296f4e0",
   "metadata": {},
   "outputs": [],
   "source": [
    "%load_ext autoreload\n",
    "%autoreload 2\n",
    "import nonlindyn as nld\n",
    "import numpy as np\n",
    "import matplotlib.pyplot as plt\n",
    "import itertools as it\n"
   ]
  },
  {
   "cell_type": "markdown",
   "id": "04326da7-3104-47be-861e-94f580fd90c2",
   "metadata": {},
   "source": [
    "# Lorenz System\n",
    "\n",
    "Let us implement the standard [Lorenz System](https://en.wikipedia.org/wiki/Lorenz_system) given by \n",
    "\\begin{aligned}{\\frac {\\mathrm {d} x}{\\mathrm {d} t}}&=\\sigma (y-x),\\\\\n",
    "{\\frac {\\mathrm {d} y}{\\mathrm {d} t}}&=x(\\rho -z)-y,\\\\\n",
    "{\\frac {\\mathrm {d} z}{\\mathrm {d} t}}&=xy-\\beta z.\n",
    "\\end{aligned}\n",
    "with standard parameters \n",
    "$$\n",
    "\\sigma = 10; \\beta= 8/3; \\rho=28\n",
    "$$\n",
    "\n"
   ]
  },
  {
   "cell_type": "code",
   "execution_count": null,
   "id": "2d605e66-2f22-4d74-9f7a-bd5b2096eaec",
   "metadata": {},
   "outputs": [],
   "source": [
    "def Lorenz(X, sigma=10., beta=8/3., rho=28.):\n",
    "    x,y,z = X\n",
    "    dx = sigma * (y - x)\n",
    "    dy = x * (rho -z) - y\n",
    "    dz = x * y - beta * z\n",
    "    return np.array([dx, dy, dz])"
   ]
  },
  {
   "cell_type": "code",
   "execution_count": null,
   "id": "c646b3e9-6818-4f58-90fb-22114b523a2d",
   "metadata": {},
   "outputs": [],
   "source": [
    "%%time\n",
    "X0 = np.array([1.0,1.0,1.0])\n",
    "T, X = nld.rk4trajectory(Lorenz, X0,  step=0.01, stop=100.0, raster=10)"
   ]
  },
  {
   "cell_type": "code",
   "execution_count": null,
   "id": "f7691aef-f34c-4145-9bf3-0aa5333394dd",
   "metadata": {},
   "outputs": [],
   "source": [
    "fig, axs = plt.subplots(1, 3, figsize=(15,7))\n",
    "axs[0].plot(X[:,0], X[:,1])\n",
    "axs[1].plot(X[:,0], X[:,2])\n",
    "axs[2].plot(X[:,1], X[:,2])"
   ]
  },
  {
   "cell_type": "markdown",
   "id": "6b683dd6-8fc6-4d9e-9b6e-25326ec54eeb",
   "metadata": {},
   "source": [
    "# Functional approach\n",
    "\n",
    "try to find local minima and maxima"
   ]
  },
  {
   "cell_type": "code",
   "execution_count": null,
   "id": "b9185ef1-bd7f-437b-99eb-c00f9b1815c7",
   "metadata": {},
   "outputs": [],
   "source": [
    "Xinit = np.array([1.,1.,1.])\n",
    "LS = nld.rk4yield(Lorenz, Xinit, step=0.01) # Generator\n",
    "LS = it.dropwhile(lambda x: x[0] < 100.0, LS) # Cut off transient\n",
    "LS = it.takewhile(lambda x: x[0] < 102.0, LS) # Cut tail\n",
    "\n",
    "LS, LSTMAX, LSTMIN = it.tee(LS, 3)\n",
    "getx = lambda x: x[1][0]\n",
    "LSMAX = nld.local_max(LSTMAX, getx)\n",
    "LSMIN = nld.local_min(LSTMIN, getx)\n",
    "\n",
    "for dt,style in [(LS,\"\"), (LSMAX,\"ro\"), (LSMIN,\"bd\")]:\n",
    "    T, X = zip(*dt)\n",
    "    x,y,z = zip(*X) \n",
    "    plt.plot(T,x,style)\n"
   ]
  },
  {
   "cell_type": "markdown",
   "id": "66987dfc-657a-45e8-b7ae-470a4a093540",
   "metadata": {},
   "source": [
    "# Find FPs\n",
    "\n",
    "We know that analytically the following three FPs exist:\n",
    "\n",
    "1. $(0,0,0)$\n",
    "2. $(\\sqrt{\\beta (\\rho - 1 )},\\sqrt{\\beta (\\rho - 1 )}, \\rho -1)$\n",
    "2. $(-\\sqrt{\\beta (\\rho - 1 )}, -\\sqrt{\\beta (\\rho - 1 )}, \\rho -1)$\n",
    "\n",
    "Let us write a function for it:"
   ]
  },
  {
   "cell_type": "code",
   "execution_count": null,
   "id": "08ce9348-5143-48d2-8f30-8e619e8176b1",
   "metadata": {},
   "outputs": [],
   "source": [
    "def LorenzFPs(sigma=10., beta=8/3., rho=28.):\n",
    "    sqex = np.sqrt(beta*(rho-1))\n",
    "    return (\n",
    "        np.array([sqex,sqex,rho - 1]), \n",
    "        np.array([-sqex,-sqex,rho - 1]),\n",
    "        np.array([0,0,0.])\n",
    "    )\n"
   ]
  },
  {
   "cell_type": "markdown",
   "id": "935ce19b-f5d6-4bdf-9a63-40314386a241",
   "metadata": {},
   "source": [
    "and check that it works:"
   ]
  },
  {
   "cell_type": "code",
   "execution_count": null,
   "id": "a9c571ee-002d-4e31-a70d-2c089bf043b6",
   "metadata": {},
   "outputs": [],
   "source": [
    "for FP in LorenzFPs():\n",
    "    print(FP, Lorenz(FP))"
   ]
  },
  {
   "cell_type": "markdown",
   "id": "e66302d9-d388-4e6b-b611-2efe85fdf291",
   "metadata": {},
   "source": [
    "Now the challenge is to find the FPs automatically.  In general this is a hard problem, but if we have a reasonable guess for the FPs, we can use Newton's method to find it.  One catch is however, that Newton requires the Jacobian, whichmight be difficult to get for an arbitrary function.\n",
    "\n",
    "To overcome this difficulty there are a number of options:\n",
    "\n",
    "\n",
    "1. Write the function in Sympy and use symbolic \n",
    "differentiation to get Jacobian\n",
    "2. Use [JAX](https://jax.readthedocs.io/en/latest/). Jax is a [google project](https://github.com/google/jax)\n",
    "3. Use [autograd](https://github.com/hips/autograd): Autograd seems to be not actively developed anymore and developers moved to JAX\n",
    "3. Approximate the Jacobian numerically by evaluating function at close-by points. \n",
    "3. Use tensorflow? Using [GradientTape](https://www.tensorflow.org/api_docs/python/tf/GradientTape) it is possible to calculate the Jacobian. \n",
    "3. Use pytorch? There is a [Jacobian function](https://pytorch.org/docs/stable/generated/torch.autograd.functional.jacobian.html)\n",
    "3. [tangent](https://github.com/google/tangent): Not actively developed\n",
    "4. Use simple forward differentiation to get the Jacobian numerically\n",
    "\n",
    "Let's try Forwrad diff in this branch, to get the jacobian without further external dependencies. \n",
    "\n",
    "\n"
   ]
  },
  {
   "cell_type": "markdown",
   "id": "c7ff461d-d924-4dcf-b33f-851b46c43820",
   "metadata": {},
   "source": [
    "# Jacobian Matrix\n",
    "\n",
    "we can now use the `jacobian` function to get the Jacobian matrix of a system at a certain point `X0`:"
   ]
  },
  {
   "cell_type": "code",
   "execution_count": null,
   "id": "a86e4704-57ec-44e2-b402-1961cdd66c88",
   "metadata": {},
   "outputs": [],
   "source": [
    "X0 = np.array([1.0,1.0,1.0])\n",
    "jac =  nld.jacobian(Lorenz)\n",
    "JX0 = jac(X0)\n",
    "\n",
    "JX0"
   ]
  },
  {
   "cell_type": "markdown",
   "id": "4f5e6d84-bc42-4028-886e-04e6cfdd4f4e",
   "metadata": {},
   "source": [
    "# Newton's method\n",
    "\n",
    "using the Jacobian, we can now use the classical Newton method, to find the fixed points:"
   ]
  },
  {
   "cell_type": "code",
   "execution_count": null,
   "id": "9ba0dbb7-4f91-435e-b048-8a6da01235ac",
   "metadata": {},
   "outputs": [],
   "source": [
    "nld.newton_method(Lorenz,X0)"
   ]
  },
  {
   "cell_type": "markdown",
   "id": "3b31b27d-d7f2-4866-85dd-41bb3ceb0ea1",
   "metadata": {},
   "source": [
    "Let's randomize the known FPs a bit first:"
   ]
  },
  {
   "cell_type": "code",
   "execution_count": null,
   "id": "09855aa5-629a-45e8-8c64-114242115105",
   "metadata": {},
   "outputs": [],
   "source": [
    "FPrand = [f + 1* np.random.rand(3) for f in LorenzFPs()]\n",
    "FPrand"
   ]
  },
  {
   "cell_type": "code",
   "execution_count": null,
   "id": "0f13553e-cb95-4a2e-976d-f156e861895f",
   "metadata": {},
   "outputs": [],
   "source": [
    "FPconv = [nld.newton_method(Lorenz,f,itmax=10) for f in FPrand]\n",
    "FPconv"
   ]
  },
  {
   "cell_type": "markdown",
   "id": "175241ed-d70d-4042-8854-63cfd04cd83e",
   "metadata": {},
   "source": [
    "Let's check that we found indeed FPs:"
   ]
  },
  {
   "cell_type": "code",
   "execution_count": null,
   "id": "cd09ab25-cb47-4613-be71-871df80d7edb",
   "metadata": {},
   "outputs": [],
   "source": [
    "[np.linalg.norm(Lorenz(F)) for  F in FPconv]"
   ]
  },
  {
   "cell_type": "code",
   "execution_count": null,
   "id": "379550b7-8a08-4251-95f0-d4eca0626e45",
   "metadata": {},
   "outputs": [],
   "source": [
    "[np.linalg.eigvals(jac(F)) for F in FPconv]"
   ]
  },
  {
   "cell_type": "code",
   "execution_count": null,
   "id": "27c075ff-86c6-4f5f-b6e0-a0b0060cfb5a",
   "metadata": {},
   "outputs": [],
   "source": [
    "bp = nld.BoundPoint(Lorenz, FPconv[0], beta=8/3)\n",
    "branch = bp.follow_FP(\"beta\", -0.1)\n",
    "branch = list(it.islice(branch, 200))\n",
    "betalist = list(map(lambda x: x.p[\"beta\"], branch))\n",
    "xlist = list(map(lambda x: x.X[0], branch))\n",
    "plt.plot(betalist, xlist)"
   ]
  },
  {
   "cell_type": "code",
   "execution_count": null,
   "id": "9842e75d-cb50-4bd3-8dc8-2adfecce8583",
   "metadata": {},
   "outputs": [],
   "source": []
  }
 ],
 "metadata": {
  "language_info": {
   "name": "python"
  }
 },
 "nbformat": 4,
 "nbformat_minor": 5
}
